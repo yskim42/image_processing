{
 "cells": [
  {
   "cell_type": "code",
   "execution_count": 1,
   "metadata": {},
   "outputs": [],
   "source": [
    "import numpy as np\n",
    "import cv2\n",
    "\n",
    "# 밝은 회색 영상 생성\n",
    "image = np.zeros((200, 400), np.uint8)\n",
    "image[:] = 200                                  \n",
    "\n",
    "# 윈도우 명칭 지정\n",
    "title1, title2 = 'Position1', 'Position2'\t\t\n",
    "cv2.namedWindow(title1, cv2.WINDOW_AUTOSIZE)\n",
    "cv2.namedWindow(title2)\n",
    "\n",
    "# 윈도우 위치 지정(이동)\n",
    "cv2.moveWindow(title1, 150, 150)                \n",
    "cv2.moveWindow(title2, 400, 50)\n",
    "\n",
    "# 행렬 원소를 영상으로 표시\n",
    "cv2.imshow(title1, image)                       \n",
    "cv2.imshow(title2, image)\n",
    "\n",
    "cv2.waitKey(0)          # 키 이벤트(key event) 대기\n",
    "cv2.destroyAllWindows() # 윈도우 종료 "
   ]
  },
  {
   "cell_type": "code",
   "execution_count": null,
   "metadata": {},
   "outputs": [],
   "source": []
  }
 ],
 "metadata": {
  "kernelspec": {
   "display_name": "opencv_env",
   "language": "python",
   "name": "python3"
  },
  "language_info": {
   "codemirror_mode": {
    "name": "ipython",
    "version": 3
   },
   "file_extension": ".py",
   "mimetype": "text/x-python",
   "name": "python",
   "nbconvert_exporter": "python",
   "pygments_lexer": "ipython3",
   "version": "3.10.14"
  }
 },
 "nbformat": 4,
 "nbformat_minor": 2
}
