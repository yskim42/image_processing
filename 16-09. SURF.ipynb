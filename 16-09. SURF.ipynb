{
 "cells": [
  {
   "cell_type": "markdown",
   "metadata": {},
   "source": [
    "### SURF (Speeded-Up Robust Features)\n",
    "* OpenCV의 surf 함수를 이용하기 위해서는 opencv-contrib-python이 설치되어야 함"
   ]
  },
  {
   "cell_type": "code",
   "execution_count": 4,
   "metadata": {},
   "outputs": [
    {
     "name": "stdout",
     "output_type": "stream",
     "text": [
      "keypoint: 5002 descriptor: (5002, 128)\n",
      "[[  4.   0.   0. ...   5.   0.   0.]\n",
      " [ 11.   5.   0. ...   5.  18. 121.]\n",
      " [  4.   2.   3. ...   0.   0.   0.]\n",
      " ...\n",
      " [  0.   0.  70. ...   0.   0.   0.]\n",
      " [  0.   0.   0. ...   1.  27. 125.]\n",
      " [  0.   4.  24. ...   0.   0.   0.]]\n"
     ]
    }
   ],
   "source": [
    "import cv2\n",
    "import numpy as np\n",
    "\n",
    "img = cv2.imread('./images/house.jpg')\n",
    "gray = cv2.cvtColor(img, cv2.COLOR_BGR2GRAY)\n",
    "\n",
    "# SURF 추출기 생성 (임계값:1000, 피라미드:3, 서술자확장:True, 방향적용:True)\n",
    "surf = cv2.SURF_create(1000, 3, True, True)  # opencv-contrib 버전 설치 필요\n",
    "\n",
    "# 키 포인트 검출과 서술자 계산\n",
    "keypoints, descriptor = surf.detectAndCompute(gray, None)\n",
    "print('keypoint:',len(keypoints), 'descriptor:', descriptor.shape)\n",
    "print(descriptor)\n",
    "\n",
    "# 키 포인트 그리기\n",
    "img_draw = cv2.drawKeypoints(img, keypoints, None, flags=cv2.DRAW_MATCHES_FLAGS_DRAW_RICH_KEYPOINTS)\n",
    "\n",
    "# 결과 출력\n",
    "cv2.imshow('SURF', img_draw)\n",
    "cv2.waitKey()\n",
    "cv2.destroyAllWindows()"
   ]
  },
  {
   "cell_type": "code",
   "execution_count": null,
   "metadata": {},
   "outputs": [],
   "source": []
  }
 ],
 "metadata": {
  "kernelspec": {
   "display_name": "opencv_env",
   "language": "python",
   "name": "python3"
  },
  "language_info": {
   "codemirror_mode": {
    "name": "ipython",
    "version": 3
   },
   "file_extension": ".py",
   "mimetype": "text/x-python",
   "name": "python",
   "nbconvert_exporter": "python",
   "pygments_lexer": "ipython3",
   "version": "3.10.14"
  }
 },
 "nbformat": 4,
 "nbformat_minor": 2
}
