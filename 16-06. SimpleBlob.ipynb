{
 "cells": [
  {
   "cell_type": "markdown",
   "metadata": {},
   "source": [
    "### SimpleBlob"
   ]
  },
  {
   "cell_type": "code",
   "execution_count": 1,
   "metadata": {},
   "outputs": [],
   "source": [
    "import cv2\n",
    "import numpy as np\n",
    " \n",
    "img = cv2.imread(\"./images/house.jpg\")\n",
    "gray = cv2.cvtColor(img, cv2.COLOR_BGR2GRAY)\n",
    "\n",
    "# SimpleBlobDetector 생성 ---①\n",
    "detector = cv2.SimpleBlobDetector_create()\n",
    "# 키 포인트 검출 ---②\n",
    "keypoints = detector.detect(gray)\n",
    "# 키 포인트를 빨간색으로 표시 ---③\n",
    "img = cv2.drawKeypoints(img, keypoints, None, (0,0,255),\\\n",
    "                flags=cv2.DRAW_MATCHES_FLAGS_DRAW_RICH_KEYPOINTS)\n",
    " \n",
    "cv2.imshow(\"Blob\", img)\n",
    "cv2.waitKey(0)\n",
    "cv2.destroyAllWindows()"
   ]
  },
  {
   "cell_type": "markdown",
   "metadata": {},
   "source": [
    "동일한 SimpleBlobDetector에 필터 옵션 주기"
   ]
  },
  {
   "cell_type": "code",
   "execution_count": 3,
   "metadata": {},
   "outputs": [
    {
     "data": {
      "text/plain": [
       "-1"
      ]
     },
     "execution_count": 3,
     "metadata": {},
     "output_type": "execute_result"
    }
   ],
   "source": [
    "import cv2\n",
    "import numpy as np\n",
    " \n",
    "img = cv2.imread(\"./images/house.jpg\")\n",
    "gray = cv2.cvtColor(img, cv2.COLOR_BGR2GRAY)\n",
    "\n",
    "# blob 검출 필터 파라미터 생성 ---①\n",
    "params = cv2.SimpleBlobDetector_Params()\n",
    "\n",
    "# 경계값 조정 ---②\n",
    "params.minThreshold = 10\n",
    "params.maxThreshold = 240\n",
    "params.thresholdStep = 5\n",
    "# 면적 필터 켜고 최소 값 지정 ---③\n",
    "params.filterByArea = True\n",
    "params.minArea = 200\n",
    "  \n",
    "# 컬러, 볼록 비율, 원형비율 필터 옵션 끄기 ---④\n",
    "params.filterByColor = False\n",
    "params.filterByConvexity = False\n",
    "params.filterByInertia = False\n",
    "params.filterByCircularity = False \n",
    "\n",
    "# 필터 파라미터로 blob 검출기 생성 ---⑤\n",
    "detector = cv2.SimpleBlobDetector_create(params)\n",
    "# 키 포인트 검출 ---⑥\n",
    "keypoints = detector.detect(gray)\n",
    "# 키 포인트 그리기 ---⑦\n",
    "img_draw = cv2.drawKeypoints(img, keypoints, None, None,\\\n",
    "                     cv2.DRAW_MATCHES_FLAGS_DRAW_RICH_KEYPOINTS)\n",
    "# 결과 출력 ---⑧\n",
    "cv2.imshow(\"Blob with Params\", img_draw)\n",
    "cv2.waitKey(0)\n",
    "cv2.destroyAllWindows()"
   ]
  },
  {
   "cell_type": "code",
   "execution_count": null,
   "metadata": {},
   "outputs": [],
   "source": []
  }
 ],
 "metadata": {
  "kernelspec": {
   "display_name": "opencv_env",
   "language": "python",
   "name": "python3"
  },
  "language_info": {
   "codemirror_mode": {
    "name": "ipython",
    "version": 3
   },
   "file_extension": ".py",
   "mimetype": "text/x-python",
   "name": "python",
   "nbconvert_exporter": "python",
   "pygments_lexer": "ipython3",
   "version": "3.10.14"
  }
 },
 "nbformat": 4,
 "nbformat_minor": 2
}
