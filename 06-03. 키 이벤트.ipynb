{
 "cells": [
  {
   "cell_type": "code",
   "execution_count": 1,
   "metadata": {},
   "outputs": [
    {
     "name": "stdout",
     "output_type": "stream",
     "text": [
      "아래쪽 화살표키 입력\n",
      "왼쪽 화살표키 입력\n",
      "오른쪽 화살표키 입력\n",
      "윗쪽 화살표키 입력\n",
      "a키 입력\n",
      "b키 입력\n",
      "A키 입력\n",
      "B키 입력\n"
     ]
    }
   ],
   "source": [
    "import numpy as np\n",
    "import cv2\n",
    "\n",
    "## switch case문을 사전(dictionary)으로 구현\n",
    "switch_case = {\n",
    "\tord('a'): \"a키 입력\",           # ord() 함수- 문자를 아스키코드로 변환\n",
    "  \tord('b'): \"b키 입력\",\n",
    "    0x41: \"A키 입력\",               # 16진수를 입력\n",
    "    int('0x42', 16): \"B키 입력\",    # 16진수인 0x42를 10진수로 변환하면 66임\n",
    "    2424832: \"왼쪽 화살표키 입력\",   # 0x250000\n",
    "    2555904: \"오른쪽 화살표키 입력\", # 0x270000\n",
    "    2490368: \"윗쪽 화살표키 입력\",   # 0x260000\n",
    "    2621440: \"아래쪽 화살표키 입력\"  # 0x280000\n",
    "}\n",
    "\n",
    "# 화소값이 1인 윈도우 생성\n",
    "image = np.ones((200, 300), np.float64)     \n",
    "cv2.namedWindow('Keyboard Event')\t\t\t\n",
    "cv2.imshow('Keyboard Event', image)\n",
    "\n",
    "while True:\t\t\t\t\t\t\t\t\t# 무한 반복\n",
    "    key = cv2.waitKeyEx(100)          \t\t# 100ms 동안 키 이벤트 대기\n",
    "    if key == 27: break                \t\t# ESC 키 누르면 종료\n",
    "\n",
    "    try:\n",
    "        result = switch_case[key]\n",
    "        print(result)\n",
    "    except KeyError:\n",
    "        result = -1\n",
    "\n",
    "cv2.destroyAllWindows()"
   ]
  },
  {
   "cell_type": "code",
   "execution_count": null,
   "metadata": {},
   "outputs": [],
   "source": []
  }
 ],
 "metadata": {
  "kernelspec": {
   "display_name": "opencv_env",
   "language": "python",
   "name": "python3"
  },
  "language_info": {
   "codemirror_mode": {
    "name": "ipython",
    "version": 3
   },
   "file_extension": ".py",
   "mimetype": "text/x-python",
   "name": "python",
   "nbconvert_exporter": "python",
   "pygments_lexer": "ipython3",
   "version": "3.10.14"
  }
 },
 "nbformat": 4,
 "nbformat_minor": 2
}
