{
 "cells": [
  {
   "cell_type": "markdown",
   "metadata": {},
   "source": [
    "### Pillow 사용법"
   ]
  },
  {
   "cell_type": "markdown",
   "metadata": {},
   "source": [
    "1. Pillow 설치"
   ]
  },
  {
   "cell_type": "code",
   "execution_count": 1,
   "metadata": {},
   "outputs": [
    {
     "name": "stdout",
     "output_type": "stream",
     "text": [
      "Requirement already satisfied: Pillow in c:\\users\\admin\\anaconda3\\envs\\opencv_env\\lib\\site-packages (10.4.0)\n"
     ]
    }
   ],
   "source": [
    "# 설치\n",
    "!pip install Pillow"
   ]
  },
  {
   "cell_type": "markdown",
   "metadata": {},
   "source": [
    "2. 이미지 읽기"
   ]
  },
  {
   "cell_type": "code",
   "execution_count": 60,
   "metadata": {},
   "outputs": [],
   "source": [
    "from PIL import Image\n",
    "\n",
    "# 이미지 파일 열기\n",
    "image = Image.open('example.jpg')\n",
    "\n",
    "# 이미지 보기\n",
    "image.show()"
   ]
  },
  {
   "cell_type": "markdown",
   "metadata": {},
   "source": [
    "3. 이미지 쓰기/저장"
   ]
  },
  {
   "cell_type": "code",
   "execution_count": 6,
   "metadata": {},
   "outputs": [],
   "source": [
    "# 이미지를 다른 이름으로 저장하기\n",
    "image.save('example_copy.jpg')"
   ]
  },
  {
   "cell_type": "markdown",
   "metadata": {},
   "source": [
    "4. 이미지 자르기"
   ]
  },
  {
   "cell_type": "code",
   "execution_count": 2,
   "metadata": {},
   "outputs": [],
   "source": [
    "# 자를 영역을 정의 (left, upper, right, lower)\n",
    "crop_area = (100, 100, 500, 300)\n",
    "\n",
    "# 이미지 자르기\n",
    "cropped_image = image.crop(crop_area)\n",
    "\n",
    "# 자른 이미지 보기\n",
    "cropped_image.show()"
   ]
  },
  {
   "cell_type": "markdown",
   "metadata": {},
   "source": [
    "5. 색상 변경"
   ]
  },
  {
   "cell_type": "code",
   "execution_count": 20,
   "metadata": {},
   "outputs": [],
   "source": [
    "# 흑백 이미지로 변환\n",
    "gray_image = image.convert('L')  \n",
    "\n",
    "# 흑백 이미지 보기\n",
    "gray_image.show()\n",
    "\n",
    "\n",
    "# 칼라 이미지로 변환\n",
    "color_image = image.convert('RGB')   \n",
    "\n",
    "# 칼라 이미지 보기\n",
    "color_image.show()"
   ]
  },
  {
   "cell_type": "markdown",
   "metadata": {},
   "source": [
    "6. 기하학적 변환"
   ]
  },
  {
   "cell_type": "code",
   "execution_count": 11,
   "metadata": {},
   "outputs": [],
   "source": [
    "# 이미지 회전 (90도)\n",
    "rotated_image = image.rotate(90)\n",
    "\n",
    "# 회전된 이미지 보기\n",
    "rotated_image.show()\n",
    "\n",
    "# 이미지 크기 조정 (가로 200픽셀, 세로 200픽셀)\n",
    "resized_image = image.resize((200, 200))\n",
    "\n",
    "# 크기 조정된 이미지 보기\n",
    "resized_image.show()"
   ]
  },
  {
   "cell_type": "code",
   "execution_count": 18,
   "metadata": {},
   "outputs": [],
   "source": [
    "# 이미지 대칭\n",
    "hflip_image = image.transpose(Image.FLIP_LEFT_RIGHT)  # 좌우\n",
    "hflip_image.show()\n",
    "\n",
    "vflip_image = image.transpose(Image.FLIP_TOP_BOTTOM)  # 상하\n",
    "vflip_image.show()\n",
    "\n",
    "aflip_image = image.transpose(Image.ROTATE_180)  # 180도 대칭\n",
    "aflip_image.show()"
   ]
  },
  {
   "cell_type": "markdown",
   "metadata": {},
   "source": [
    "7. 이미지 개선(Enhancement)"
   ]
  },
  {
   "cell_type": "code",
   "execution_count": 6,
   "metadata": {},
   "outputs": [],
   "source": [
    "from PIL import ImageEnhance\n",
    "\n",
    "# 밝기 조정 인스턴스 생성\n",
    "enhancer = ImageEnhance.Brightness(image)\n",
    "\n",
    "# 밝기 조정 (# 1보다 크면 이미지 밝기 증가, 작으면 감소)\n",
    "brighter_image = enhancer.enhance(1.5)   \n",
    "\n",
    "# 밝기 조정된 이미지 보기\n",
    "brighter_image.show()"
   ]
  },
  {
   "cell_type": "code",
   "execution_count": 20,
   "metadata": {},
   "outputs": [],
   "source": [
    "# 밝기 조정 (0.5배 감소:1을 기준으로50% 감소)\n",
    "darker_image = enhancer.enhance(0.5)\n",
    "\n",
    "# 밝기 조정된 이미지 보기\n",
    "darker_image.show()"
   ]
  },
  {
   "cell_type": "code",
   "execution_count": 7,
   "metadata": {},
   "outputs": [],
   "source": [
    "# 밝기 대조 변경\n",
    "constrast_image = ImageEnhance.Contrast(image)\n",
    "\n",
    "# 밝기 대조 변경된 이미지 보기\n",
    "constrast_image.enhance(3).show()   # 1이면 원본 이미지, 1보다 작으면 대비가 감소, 크면 대비가 증가"
   ]
  },
  {
   "cell_type": "markdown",
   "metadata": {},
   "source": [
    "8. 이미지 필터"
   ]
  },
  {
   "cell_type": "code",
   "execution_count": 26,
   "metadata": {},
   "outputs": [],
   "source": [
    "from PIL import ImageFilter\n",
    "\n",
    "# 가우시안 블러링\n",
    "gaussian_filter_image = image.filter(ImageFilter.GaussianBlur(5))\n",
    "gaussian_filter_image.show()\n",
    "\n",
    "box_filter_image = image.filter(ImageFilter.BoxBlur(5))\n",
    "box_filter_image.show()"
   ]
  },
  {
   "cell_type": "code",
   "execution_count": 31,
   "metadata": {},
   "outputs": [],
   "source": [
    "# 잡음영상 불러오기\n",
    "# noisy_image = Image.open('noisy_moon.jpg')\n",
    "noisy_image = Image.open('Noisy-blurred-Lena-image.png')\n",
    "noisy_image.show()\n",
    "\n",
    "# 미디안 필터 적용\n",
    "median_filter_image = noisy_image.filter(ImageFilter.MedianFilter)\n",
    "median_filter_image.show()"
   ]
  },
  {
   "cell_type": "code",
   "execution_count": 32,
   "metadata": {},
   "outputs": [],
   "source": [
    "# 샤프닝 필터 적용\n",
    "sharpen_filter_image = noisy_image.filter(ImageFilter.SHARPEN)\n",
    "sharpen_filter_image.show()\n",
    "\n",
    "# 컨투어 필터 적용\n",
    "contour_filter_image = noisy_image.filter(ImageFilter.CONTOUR)\n",
    "contour_filter_image.show()"
   ]
  },
  {
   "cell_type": "code",
   "execution_count": 38,
   "metadata": {},
   "outputs": [],
   "source": [
    "# 에지 개선 필터 적용\n",
    "edge_enhance_filter_image = noisy_image.filter(ImageFilter.EDGE_ENHANCE)\n",
    "edge_enhance_filter_image.show()\n",
    "\n",
    "# 임보스 필터 적용\n",
    "emboss_filter_image = noisy_image.filter(ImageFilter.EMBOSS)\n",
    "emboss_filter_image.show()"
   ]
  },
  {
   "cell_type": "markdown",
   "metadata": {},
   "source": [
    "9. 이미지 합치기"
   ]
  },
  {
   "cell_type": "code",
   "execution_count": 44,
   "metadata": {},
   "outputs": [],
   "source": [
    "concat_image = Image.new(\"RGB\", (750, 360), '#808080') # 첫번째 인자: mode, 두번째 인자: size, 세번째 인자: background color\n",
    "concat_image.paste(noisy_image, (10, 10))\n",
    "concat_image.paste(sharpen_filter_image, (noisy_image.width+20, 10))\n",
    "\n",
    "concat_image.show()"
   ]
  },
  {
   "cell_type": "markdown",
   "metadata": {},
   "source": [
    "10. 박스 그리기 & 텍스트 넣기"
   ]
  },
  {
   "cell_type": "code",
   "execution_count": 61,
   "metadata": {},
   "outputs": [],
   "source": [
    "from PIL import ImageDraw, ImageFont\n",
    "\n",
    "color = (0,255,0); width = 3\n",
    "\n",
    "bbox     = (250,10,450,250)\n",
    "text_pos = (bbox[0]+width,bbox[1])\n",
    "\n",
    "font_size = 15\n",
    "font = ImageFont.truetype(\"arial.ttf\", font_size)\n",
    "\n",
    "draw = ImageDraw.Draw(image)\n",
    "draw.rectangle(bbox, outline=color, width = width)\n",
    "draw.text(text_pos, 'Face',color,font=font) # font 위치, 글자 등 설정 \n",
    "image.show()"
   ]
  },
  {
   "cell_type": "markdown",
   "metadata": {},
   "source": [
    "8. 이미지 픽셀값 변경하기"
   ]
  },
  {
   "cell_type": "code",
   "execution_count": 9,
   "metadata": {},
   "outputs": [
    {
     "data": {
      "text/plain": [
       "(22, 30, 66)"
      ]
     },
     "execution_count": 9,
     "metadata": {},
     "output_type": "execute_result"
    }
   ],
   "source": [
    "# 100, 100 포인트 픽셀값에 접근하기\n",
    "a_pixel = image.getpixel((100, 100))\n",
    "a_pixel"
   ]
  },
  {
   "cell_type": "code",
   "execution_count": 10,
   "metadata": {},
   "outputs": [
    {
     "name": "stdout",
     "output_type": "stream",
     "text": [
      "(255, 0, 0)\n"
     ]
    }
   ],
   "source": [
    "# 100, 100 포인트 픽셀값을 변경하기\n",
    "image.putpixel((100, 100), (255,0,0))\n",
    "print(image.getpixel((100, 100)))"
   ]
  },
  {
   "cell_type": "markdown",
   "metadata": {},
   "source": [
    "9. 이미지 속성 정보 가져오기"
   ]
  },
  {
   "cell_type": "code",
   "execution_count": 12,
   "metadata": {},
   "outputs": [
    {
     "name": "stdout",
     "output_type": "stream",
     "text": [
      "이미지 파일명 : D:\\OneDrive\\lessons\\24_2학기 영상처리\\sources\\example.jpg\n",
      "이미지 파일형식 : JPEG\n",
      "이미지 사이즈 : (640, 360)\n",
      "이미지 색상모드 : RGB\n",
      "이미지 Width : 640\n",
      "이미지 Height : 360\n"
     ]
    }
   ],
   "source": [
    "print(f'이미지 파일명 : {format(image.filename)}')\n",
    "print(f'이미지 파일형식 : {format(image.format)}')\n",
    "print(f'이미지 사이즈 : {format(image.size)}')\n",
    "print(f'이미지 색상모드 : {format(image.mode)}')\n",
    "print(f'이미지 Width : {format(image.width)}')\n",
    "print(f'이미지 Height : {format(image.height)}')"
   ]
  },
  {
   "cell_type": "code",
   "execution_count": null,
   "metadata": {},
   "outputs": [],
   "source": []
  }
 ],
 "metadata": {
  "kernelspec": {
   "display_name": "opencv_env",
   "language": "python",
   "name": "python3"
  },
  "language_info": {
   "codemirror_mode": {
    "name": "ipython",
    "version": 3
   },
   "file_extension": ".py",
   "mimetype": "text/x-python",
   "name": "python",
   "nbconvert_exporter": "python",
   "pygments_lexer": "ipython3",
   "version": "3.10.14"
  }
 },
 "nbformat": 4,
 "nbformat_minor": 2
}
