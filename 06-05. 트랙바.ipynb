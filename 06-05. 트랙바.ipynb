{
 "cells": [
  {
   "cell_type": "code",
   "execution_count": 1,
   "metadata": {},
   "outputs": [
    {
     "name": "stdout",
     "output_type": "stream",
     "text": [
      "추가 화소값: 1\n",
      "추가 화소값: 1\n",
      "추가 화소값: 1\n",
      "추가 화소값: 1\n",
      "추가 화소값: 3\n",
      "추가 화소값: 3\n",
      "추가 화소값: 4\n",
      "추가 화소값: 7\n",
      "추가 화소값: 4\n",
      "추가 화소값: 3\n",
      "추가 화소값: 5\n",
      "추가 화소값: 6\n",
      "추가 화소값: 2\n",
      "추가 화소값: 8\n",
      "추가 화소값: 7\n",
      "추가 화소값: 6\n",
      "추가 화소값: 9\n",
      "추가 화소값: 7\n",
      "추가 화소값: 5\n",
      "추가 화소값: 5\n",
      "추가 화소값: 6\n",
      "추가 화소값: 1\n",
      "추가 화소값: 4\n",
      "추가 화소값: 7\n",
      "추가 화소값: 3\n",
      "추가 화소값: 3\n",
      "추가 화소값: 2\n",
      "추가 화소값: 3\n",
      "추가 화소값: 3\n",
      "추가 화소값: 5\n",
      "추가 화소값: 1\n",
      "추가 화소값: 3\n",
      "추가 화소값: 1\n",
      "추가 화소값: 1\n",
      "추가 화소값: 1\n",
      "추가 화소값: 1\n",
      "추가 화소값: 1\n",
      "추가 화소값: 1\n"
     ]
    }
   ],
   "source": [
    "import numpy as np\n",
    "import cv2\n",
    "\n",
    "def onChange(value):    # 트랙바 콜백 함수\n",
    "    global image   \n",
    "\n",
    "    add_value = value - int(image[0][0])            # 트랙바 값과 영상 화소값 차분\n",
    "    print(\"추가 화소값:\", add_value)\n",
    "    if  add_value > 0 : image = image + add_value   # 행렬과 스칼라 덧셈 수행\n",
    "    else: image = image - abs(add_value)            # 행렬과 스칼라 덧셈 수행\n",
    "    cv2.imshow(title, image)\n",
    "\n",
    "image = np.zeros((300, 500), np.uint8)              # 초기 검정 영상 생성 \n",
    "\n",
    "title = 'Trackbar Event'\n",
    "cv2.imshow(title, image)\n",
    "\n",
    "cv2.createTrackbar(\"Brightness\", title, image[0][0], 255, onChange)\t# 트랙바 콜백 함수 등록\n",
    "cv2.waitKey(0)\n",
    "cv2.destroyWindow(title)"
   ]
  },
  {
   "cell_type": "code",
   "execution_count": null,
   "metadata": {},
   "outputs": [],
   "source": []
  }
 ],
 "metadata": {
  "kernelspec": {
   "display_name": "opencv_env",
   "language": "python",
   "name": "python3"
  },
  "language_info": {
   "codemirror_mode": {
    "name": "ipython",
    "version": 3
   },
   "file_extension": ".py",
   "mimetype": "text/x-python",
   "name": "python",
   "nbconvert_exporter": "python",
   "pygments_lexer": "ipython3",
   "version": "3.10.14"
  }
 },
 "nbformat": 4,
 "nbformat_minor": 2
}
