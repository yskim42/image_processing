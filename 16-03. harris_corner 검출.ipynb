{
 "cells": [
  {
   "cell_type": "markdown",
   "metadata": {},
   "source": [
    "### 해리스 코너 검출\n",
    "* 참고: https://dacon.io/codeshare/5106"
   ]
  },
  {
   "cell_type": "markdown",
   "metadata": {},
   "source": [
    "해리스 코너 검출(Harris corner detection)은 소벨(Sobel) 미분으로 엣지를 검출하면서 엣지의 경사도 변화량을 측정하여 변화량이 X축과 Y축 모든 방향으로 크게 변화하는 것을 코너로 판단"
   ]
  },
  {
   "cell_type": "markdown",
   "metadata": {},
   "source": [
    "* dst = cv2.cornerHarris(src, blockSize, ksize, k[, dst, borderType]\n",
    "    + src : 입력 영상, 그레이 스케일\n",
    "    + blockSize : 이웃 픽셀 범위\n",
    "    + ksize : 소벨 미분 커널 크기\n",
    "    + k : 코너 검출 상수, 경험적 상수(0.04~0.06)\n",
    "    + dst : 코너 검출 결과\n",
    "        - src와 같은 크기와 1채널 배열, 변화량의 값, 지역 최대 값이 코너점을 의미\n",
    "    + borderType : 외곽 영역 보정 형식"
   ]
  },
  {
   "cell_type": "code",
   "execution_count": 1,
   "metadata": {},
   "outputs": [],
   "source": [
    "import cv2\n",
    "import numpy as np\n",
    "\n",
    "img = cv2.imread('./images/house.jpg')\n",
    "gray = cv2.cvtColor(img, cv2.COLOR_BGR2GRAY)"
   ]
  },
  {
   "cell_type": "code",
   "execution_count": 2,
   "metadata": {},
   "outputs": [],
   "source": [
    "# 해리스 코너 검출 ---①\n",
    "corner = cv2.cornerHarris(gray, 2, 3, 0.04)"
   ]
  },
  {
   "cell_type": "code",
   "execution_count": 3,
   "metadata": {},
   "outputs": [],
   "source": [
    "# 변화량 결과의 최대값 10% 이상의 좌표 구하기 ---②\n",
    "coord = np.where(corner > 0.1* corner.max())\n",
    "coord = np.stack((coord[1], coord[0]), axis=-1)"
   ]
  },
  {
   "cell_type": "code",
   "execution_count": 4,
   "metadata": {},
   "outputs": [],
   "source": [
    "# 코너 좌표에 동그리미 그리기 ---③\n",
    "for x, y in coord:\n",
    "    cv2.circle(img, (x,y), 5, (0,0,255), 1, cv2.LINE_AA)"
   ]
  },
  {
   "cell_type": "code",
   "execution_count": 5,
   "metadata": {},
   "outputs": [],
   "source": [
    "# 변화량을 영상으로 표현하기 위해서 0~255로 정규화 ---④\n",
    "corner_norm = cv2.normalize(corner, None, 0, 255, cv2.NORM_MINMAX, cv2.CV_8U)"
   ]
  },
  {
   "cell_type": "code",
   "execution_count": 6,
   "metadata": {},
   "outputs": [],
   "source": [
    "# 화면에 출력\n",
    "corner_norm = cv2.cvtColor(corner_norm, cv2.COLOR_GRAY2BGR)\n",
    "merged = np.hstack((corner_norm, img))\n",
    "cv2.imshow('Harris Corner', merged)\n",
    "cv2.waitKey()\n",
    "cv2.destroyAllWindows()"
   ]
  },
  {
   "cell_type": "markdown",
   "metadata": {},
   "source": [
    "[참고] 시(Shi)와 토마시(Tomasi)는 해리스 코너 검출을 개선한 알고리즘을 발표했다. 이 방법으로 검출한 코너는 객체 추적에 좋은 특징이 된다고 해서 OpenCV는 cv2.goodFeaturesToTrack()이라는 이름의 함수를 제공한다."
   ]
  },
  {
   "cell_type": "markdown",
   "metadata": {},
   "source": [
    "* corners = cv2.goodFeaturesToTrack(img, maxCorners, qualityLevel, minDistance[, corners, mask, blockSize, useHarrisDetector, k])\n",
    "    + img : 입력 영상\n",
    "    + maxCorners : 얻고 싶은 코너 개수, 강한 것 순\n",
    "    + qualityLevel : 코너로 판단할 스레시홀드 값\n",
    "    + minDistance : 코너 간 최소 거리\n",
    "    + mask : 검출에 제외할 마스크\n",
    "    + blockSize=3 : 코너 주변 영역의 크기\n",
    "    + useHarrisDetector=False : 코너 검출 방법 선택\n",
    "        - True = 해리스 코너 검출 방법, False = 시와 토마시 검출 방법\n",
    "    + k : 해리스 코너 검출 방법에 사용할 k 계수\n",
    "    + corners : 코너 검출 좌표 결과, N x 1 x 2 크기의 배열, 실수 값 (정수 변형 필요)"
   ]
  },
  {
   "cell_type": "code",
   "execution_count": 7,
   "metadata": {},
   "outputs": [],
   "source": [
    "import cv2\n",
    "import numpy as np\n",
    "\n",
    "img = cv2.imread('./images/house.jpg')\n",
    "gray = cv2.cvtColor(img, cv2.COLOR_BGR2GRAY)\n",
    "\n",
    "# 시-토마스의 코너 검출 메서드\n",
    "corners = cv2.goodFeaturesToTrack(gray, 80, 0.01, 10)\n",
    "# 실수 좌표를 정수 좌표로 변환\n",
    "corners = np.int32(corners)\n",
    "\n",
    "# 좌표에 동그라미 표시\n",
    "for corner in corners:\n",
    "    x, y = corner[0]\n",
    "    cv2.circle(img, (x, y), 5, (0,0,255), 1, cv2.LINE_AA)\n",
    "\n",
    "cv2.imshow('Corners', img)\n",
    "cv2.waitKey()\n",
    "cv2.destroyAllWindows()"
   ]
  },
  {
   "cell_type": "code",
   "execution_count": null,
   "metadata": {},
   "outputs": [],
   "source": []
  }
 ],
 "metadata": {
  "kernelspec": {
   "display_name": "opencv_env",
   "language": "python",
   "name": "python3"
  },
  "language_info": {
   "codemirror_mode": {
    "name": "ipython",
    "version": 3
   },
   "file_extension": ".py",
   "mimetype": "text/x-python",
   "name": "python",
   "nbconvert_exporter": "python",
   "pygments_lexer": "ipython3",
   "version": "3.10.14"
  }
 },
 "nbformat": 4,
 "nbformat_minor": 2
}
