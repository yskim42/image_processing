{
 "cells": [
  {
   "cell_type": "code",
   "execution_count": 1,
   "metadata": {},
   "outputs": [],
   "source": [
    "import numpy as np\n",
    "import cv2\n",
    "\n",
    "# 흰색 영상 생성\n",
    "image = np.zeros((200, 300), np.uint8)\n",
    "image.fill(255)                                 \n",
    "\n",
    "# 윈도우 명칭 지정\n",
    "title1, title2 = 'AUTOSIZE', 'NORMAL'           \n",
    "cv2.namedWindow(title1, cv2.WINDOW_AUTOSIZE)    # 자동 사이즈 설정\n",
    "cv2.namedWindow(title2, cv2.WINDOW_NORMAL)      # 일반 크기변경 설정 \n",
    "\n",
    "cv2.imshow(title1, image)\n",
    "cv2.imshow(title2, image)\n",
    "\n",
    "cv2.resizeWindow(title1, 400, 300)  # 크기 변경 시도\n",
    "cv2.resizeWindow(title2, 400, 300)  # 크기 변경 시도\n",
    "\n",
    "cv2.waitKey(0)\n",
    "cv2.destroyAllWindows()               "
   ]
  },
  {
   "cell_type": "code",
   "execution_count": null,
   "metadata": {},
   "outputs": [],
   "source": []
  }
 ],
 "metadata": {
  "kernelspec": {
   "display_name": "opencv_env",
   "language": "python",
   "name": "python3"
  },
  "language_info": {
   "codemirror_mode": {
    "name": "ipython",
    "version": 3
   },
   "file_extension": ".py",
   "mimetype": "text/x-python",
   "name": "python",
   "nbconvert_exporter": "python",
   "pygments_lexer": "ipython3",
   "version": "3.10.14"
  }
 },
 "nbformat": 4,
 "nbformat_minor": 2
}
