{
 "cells": [
  {
   "cell_type": "markdown",
   "metadata": {},
   "source": [
    "### BFMatcher 디스크립터 매칭기"
   ]
  },
  {
   "cell_type": "code",
   "execution_count": 1,
   "metadata": {},
   "outputs": [
    {
     "name": "stdout",
     "output_type": "stream",
     "text": [
      "[[[175 165 165]\n",
      "  [175 165 165]\n",
      "  [175 165 165]\n",
      "  ...\n",
      "  [169 156 154]\n",
      "  [172 157 155]\n",
      "  [172 157 155]]\n",
      "\n",
      " [[177 167 167]\n",
      "  [177 167 167]\n",
      "  [177 167 167]\n",
      "  ...\n",
      "  [172 159 157]\n",
      "  [173 158 156]\n",
      "  [173 158 156]]\n",
      "\n",
      " [[177 167 167]\n",
      "  [177 167 167]\n",
      "  [177 167 167]\n",
      "  ...\n",
      "  [175 160 158]\n",
      "  [175 160 158]\n",
      "  [175 160 158]]\n",
      "\n",
      " ...\n",
      "\n",
      " [[167 159 159]\n",
      "  [166 158 158]\n",
      "  [167 159 159]\n",
      "  ...\n",
      "  [162 160 160]\n",
      "  [162 160 160]\n",
      "  [162 160 160]]\n",
      "\n",
      " [[166 158 158]\n",
      "  [167 159 159]\n",
      "  [167 159 159]\n",
      "  ...\n",
      "  [162 160 160]\n",
      "  [162 160 160]\n",
      "  [162 160 160]]\n",
      "\n",
      " [[166 158 158]\n",
      "  [168 160 160]\n",
      "  [167 159 159]\n",
      "  ...\n",
      "  [162 160 160]\n",
      "  [162 160 160]\n",
      "  [162 160 160]]]\n"
     ]
    },
    {
     "ename": "AttributeError",
     "evalue": "module 'cv2' has no attribute 'xfeatures2d'",
     "output_type": "error",
     "traceback": [
      "\u001b[1;31m---------------------------------------------------------------------------\u001b[0m",
      "\u001b[1;31mAttributeError\u001b[0m                            Traceback (most recent call last)",
      "Cell \u001b[1;32mIn[1], line 12\u001b[0m\n\u001b[0;32m      9\u001b[0m gray2 \u001b[38;5;241m=\u001b[39m cv2\u001b[38;5;241m.\u001b[39mcvtColor(img2, cv2\u001b[38;5;241m.\u001b[39mCOLOR_BGR2GRAY)\n\u001b[0;32m     11\u001b[0m \u001b[38;5;66;03m# SIFT 서술자 추출기 생성 ---①\u001b[39;00m\n\u001b[1;32m---> 12\u001b[0m detector \u001b[38;5;241m=\u001b[39m \u001b[43mcv2\u001b[49m\u001b[38;5;241;43m.\u001b[39;49m\u001b[43mxfeatures2d\u001b[49m\u001b[38;5;241m.\u001b[39mSIFT_create()\n\u001b[0;32m     13\u001b[0m \u001b[38;5;66;03m# 각 영상에 대해 키 포인트와 서술자 추출 ---②\u001b[39;00m\n\u001b[0;32m     14\u001b[0m kp1, desc1 \u001b[38;5;241m=\u001b[39m detector\u001b[38;5;241m.\u001b[39mdetectAndCompute(gray1, \u001b[38;5;28;01mNone\u001b[39;00m)\n",
      "\u001b[1;31mAttributeError\u001b[0m: module 'cv2' has no attribute 'xfeatures2d'"
     ]
    }
   ],
   "source": [
    "import cv2\n",
    "import numpy as np\n",
    "import matplotlib.pyplot as plt\n",
    "\n",
    "img1 = cv2.imread('./images/pica.jpg')\n",
    "img2 = cv2.imread('./images/figures.jpg')\n",
    "\n",
    "gray1 = cv2.cvtColor(img1, cv2.COLOR_BGR2GRAY)\n",
    "gray2 = cv2.cvtColor(img2, cv2.COLOR_BGR2GRAY)\n",
    "\n",
    "# SIFT 서술자 추출기 생성 ---①\n",
    "detector = cv2.xfeatures2d.SIFT_create()\n",
    "# 각 영상에 대해 키 포인트와 서술자 추출 ---②\n",
    "kp1, desc1 = detector.detectAndCompute(gray1, None)\n",
    "kp2, desc2 = detector.detectAndCompute(gray2, None)\n",
    "\n",
    "# BFMatcher 생성, L1 거리, 상호 체크 ---③\n",
    "matcher = cv2.BFMatcher(cv2.NORM_L1, crossCheck=True)\n",
    "# 매칭 계산 ---④\n",
    "matches = matcher.match(desc1, desc2)\n",
    "# 매칭 결과 그리기 ---⑤\n",
    "res = cv2.drawMatches(img1, kp1, img2, kp2, matches, None, \\\n",
    "                      flags=cv2.DRAW_MATCHES_FLAGS_NOT_DRAW_SINGLE_POINTS)\n",
    "# 결과 출력 \n",
    "\n",
    "plt.figure(figsize = (10,6))\n",
    "imgs = {'BFMatcher + SIFT':res}\n",
    "for i, (k, v) in enumerate(imgs.items()):\n",
    "    plt.subplot(1,1,i+1)\n",
    "    plt.title(k)\n",
    "    plt.imshow(v[:,:,(2,1,0)])\n",
    "    plt.xticks([]),plt.yticks([])\n",
    "\n",
    "plt.show()"
   ]
  },
  {
   "cell_type": "code",
   "execution_count": null,
   "metadata": {},
   "outputs": [],
   "source": []
  }
 ],
 "metadata": {
  "kernelspec": {
   "display_name": "opencv_env",
   "language": "python",
   "name": "python3"
  },
  "language_info": {
   "codemirror_mode": {
    "name": "ipython",
    "version": 3
   },
   "file_extension": ".py",
   "mimetype": "text/x-python",
   "name": "python",
   "nbconvert_exporter": "python",
   "pygments_lexer": "ipython3",
   "version": "3.10.14"
  }
 },
 "nbformat": 4,
 "nbformat_minor": 2
}
