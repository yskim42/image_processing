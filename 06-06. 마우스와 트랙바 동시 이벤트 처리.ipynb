{
 "cells": [
  {
   "cell_type": "code",
   "execution_count": 3,
   "metadata": {},
   "outputs": [],
   "source": [
    "import numpy as np\n",
    "import cv2\n",
    "\n",
    "def onChange(value):\n",
    "    global image, title \n",
    "\n",
    "    add_value = value - image[0][0]     # 트렉바 값과 영상화소값 차분\n",
    "    if add_value > 0 : image += add_value\n",
    "    else : image -= abs(add_value)\n",
    "    cv2.imshow(title, image)\n",
    "\n",
    "def onMouse(event, x, y, flags, param): # 마우스 콜백 함수\n",
    "    global image, bar_name\n",
    "    \n",
    "    if event == cv2.EVENT_RBUTTONDOWN:\n",
    "        if (image[0][0] < 246): image += 10\n",
    "        cv2.setTrackbarPos(bar_name, title, image[0][0])\t# 트랙바 위치 변경 \n",
    "        cv2.imshow(title, image)\n",
    "        \n",
    "    elif event == cv2.EVENT_LBUTTONDOWN :\n",
    "        if (image[0][0] >= 10): image -= 10\n",
    "        cv2.setTrackbarPos(bar_name, title, image[0][0])\t# 트랙바 위치 변경 \n",
    "        cv2.imshow(title, image)\n",
    "\n",
    "image = np.zeros((300, 500), np.uint8)                 \n",
    "\n",
    "title = \"Trackbar & Mouse Event\"                    \t\t# 윈도우 이름\n",
    "bar_name = \"Brightness\"                                     # 트랙바 이름\n",
    "cv2.imshow(title, image)    \n",
    "\n",
    "cv2.createTrackbar(bar_name, title, image[0][0], 255, onChange)   # 트랙바 콜백 함수\n",
    "cv2.setMouseCallback(title, onMouse)\n",
    "cv2.waitKey(0)\t\t\t\t\t\t\t\t\n",
    "cv2.destroyAllWindows()                              "
   ]
  },
  {
   "cell_type": "code",
   "execution_count": null,
   "metadata": {},
   "outputs": [],
   "source": []
  }
 ],
 "metadata": {
  "kernelspec": {
   "display_name": "opencv_env",
   "language": "python",
   "name": "python3"
  },
  "language_info": {
   "codemirror_mode": {
    "name": "ipython",
    "version": 3
   },
   "file_extension": ".py",
   "mimetype": "text/x-python",
   "name": "python",
   "nbconvert_exporter": "python",
   "pygments_lexer": "ipython3",
   "version": "3.10.14"
  }
 },
 "nbformat": 4,
 "nbformat_minor": 2
}
