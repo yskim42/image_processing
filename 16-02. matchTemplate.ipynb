{
 "cells": [
  {
   "cell_type": "markdown",
   "metadata": {},
   "source": [
    "* OpenCV는 템플릿 매칭 cv2.matchTemplate()함수를 제공  \n",
    "    + result = cv2.matchTemplate(img, templ, method[, result, mask])\n",
    "\n",
    "        - img : 입력 영상\n",
    "        - templ : 템플릿 영상\n",
    "        - method : 매칭 메서드\n",
    "            cv2.TM_SQDIFF : 제곱 차이 매칭, 완벽 매칭: 0, 나쁜 매칭: 큰 값  \n",
    "            cv2.TM_SQDIFF_NORMED : 제곱 차이 매칭의 정규화  \n",
    "            cv2.TM_CCORR : 상관관계 매칭, 완벽 매칭: 큰 값, 나쁜 매칭: 0  \n",
    "            cv2.TM_CCORR_NORMED : 상관관계 매칭의 정규화  \n",
    "            cv2.TM_CCOEFF : 상관계수 매칭, 완벽 매칭: 1, 나쁜 매칭: -1  \n",
    "        result : 매칭 결과 2차원 배열  \n",
    "        mask : TM_SQDIFF, TM_CCORR_NORMED인 경우 사용할 마스크  \n",
    "\n",
    "    + minVal, maxVal, minLoc, maxLoc = **cv2.minMaxLoc**( src[, mask])  \n",
    "\n",
    "        - src : 입력 1채널 배열\n",
    "        - minVal, maxVal : 배열 전체에서 최소값, 최대값\n",
    "        - minLoc, maxLoc : 최소값과 최대값의 좌표(x, y)"
   ]
  },
  {
   "cell_type": "code",
   "execution_count": 2,
   "metadata": {},
   "outputs": [
    {
     "name": "stdout",
     "output_type": "stream",
     "text": [
      "cv2.TM_CCOEFF_NORMED -0.34496572613716125 0.9997499585151672 (323, 246) (454, 278)\n",
      "cv2.TM_CCORR_NORMED 0.7524874806404114 0.9999744296073914 (249, 53) (454, 278)\n",
      "cv2.TM_SQDIFF_NORMED 5.1157374400645494e-05 0.5842239856719971 (454, 278) (249, 52)\n"
     ]
    }
   ],
   "source": [
    "import cv2\n",
    "import numpy as np\n",
    "\n",
    "# 입력이미지와 템플릿 이미지 읽기\n",
    "# 이미지 다운로드: https://data.caltech.edu/records/mzrjq-6wc02\n",
    "img = cv2.imread('./images/figures.jpg')\n",
    "template = cv2.imread('./images/pica.jpg')\n",
    "th, tw = template.shape[:2]\n",
    "cv2.imshow('template', template)\n",
    "\n",
    "# 3가지 매칭 메서드 순회\n",
    "methods = ['cv2.TM_CCOEFF_NORMED', 'cv2.TM_CCORR_NORMED', 'cv2.TM_SQDIFF_NORMED']\n",
    "for i, method_name in enumerate(methods):\n",
    "    img_draw = img.copy()\n",
    "    method = eval(method_name)\n",
    "    # 템플릿 매칭   ---①\n",
    "    res = cv2.matchTemplate(img, template, method)\n",
    "    # 최대, 최소값과 그 좌표 구하기 ---②\n",
    "    min_val, max_val, min_loc, max_loc = cv2.minMaxLoc(res)\n",
    "    print(method_name, min_val, max_val, min_loc, max_loc)\n",
    "\n",
    "    # TM_SQDIFF의 경우 최소값이 좋은 매칭, 나머지는 그 반대 ---③\n",
    "    if method in [cv2.TM_SQDIFF, cv2.TM_SQDIFF_NORMED]:\n",
    "        top_left = min_loc\n",
    "        match_val = min_val\n",
    "    else:\n",
    "        top_left = max_loc\n",
    "        match_val = max_val\n",
    "    # 매칭 좌표 구해서 사각형 표시   ---④      \n",
    "    bottom_right = (top_left[0] + tw, top_left[1] + th)\n",
    "    cv2.rectangle(img_draw, top_left, bottom_right, (0,0,255),2)\n",
    "    # 매칭 포인트 표시 ---⑤\n",
    "    cv2.putText(img_draw, str(match_val), top_left, cv2.FONT_HERSHEY_PLAIN, 2,(0,255,0), 1, cv2.LINE_AA)\n",
    "    cv2.imshow(method_name, img_draw)\n",
    "cv2.waitKey(0)\n",
    "cv2.destroyAllWindows()"
   ]
  },
  {
   "cell_type": "code",
   "execution_count": null,
   "metadata": {},
   "outputs": [],
   "source": []
  }
 ],
 "metadata": {
  "kernelspec": {
   "display_name": "opencv_env",
   "language": "python",
   "name": "python3"
  },
  "language_info": {
   "codemirror_mode": {
    "name": "ipython",
    "version": 3
   },
   "file_extension": ".py",
   "mimetype": "text/x-python",
   "name": "python",
   "nbconvert_exporter": "python",
   "pygments_lexer": "ipython3",
   "version": "3.10.14"
  }
 },
 "nbformat": 4,
 "nbformat_minor": 2
}
